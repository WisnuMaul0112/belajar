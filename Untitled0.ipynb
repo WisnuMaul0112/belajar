{
  "nbformat": 4,
  "nbformat_minor": 0,
  "metadata": {
    "colab": {
      "name": "Untitled0.ipynb",
      "provenance": [],
      "collapsed_sections": [],
      "authorship_tag": "ABX9TyMusYtU0DOnAbEvmFoFLe5O",
      "include_colab_link": true
    },
    "kernelspec": {
      "name": "python3",
      "display_name": "Python 3"
    }
  },
  "cells": [
    {
      "cell_type": "markdown",
      "metadata": {
        "id": "view-in-github",
        "colab_type": "text"
      },
      "source": [
        "<a href=\"https://colab.research.google.com/github/WisnuMaul0112/belajar/blob/master/Untitled0.ipynb\" target=\"_parent\"><img src=\"https://colab.research.google.com/assets/colab-badge.svg\" alt=\"Open In Colab\"/></a>"
      ]
    },
    {
      "cell_type": "code",
      "metadata": {
        "id": "rmIwqO4sOiwu",
        "colab_type": "code",
        "colab": {}
      },
      "source": [
        "# NORMALIZATION\n",
        "from sklearn.preprocessing import MinMaxScaler # import library MinMaxscaler\n",
        "data = [[12000000, 33], [35000000, 45], [4000000, 23], [6500000, 26], [9000000, 29]]"
      ],
      "execution_count": 25,
      "outputs": []
    },
    {
      "cell_type": "code",
      "metadata": {
        "id": "q1Q3yR1SRNbq",
        "colab_type": "code",
        "colab": {
          "base_uri": "https://localhost:8080/",
          "height": 104
        },
        "outputId": "d9930717-c5cf-4263-c46d-69e3e5231453"
      },
      "source": [
        "#selanjutnya kita buat object scaler dan panggil fungsi fit() pada data. \n",
        "#Fungsi fit adalah fungsi untuk menghitung nilai minimum dan maksimum pada tiap kolom.\n",
        "scaler = MinMaxScaler()\n",
        "scaler.fit(data)\n",
        "\n",
        "#erakhir kita panggil fungsi transform yang akan mengaplikasikan scaler pada data.\n",
        "print(scaler.transform(data))"
      ],
      "execution_count": 26,
      "outputs": [
        {
          "output_type": "stream",
          "text": [
            "[[0.25806452 0.45454545]\n",
            " [1.         1.        ]\n",
            " [0.         0.        ]\n",
            " [0.08064516 0.13636364]\n",
            " [0.16129032 0.27272727]]\n"
          ],
          "name": "stdout"
        }
      ]
    }
  ]
}